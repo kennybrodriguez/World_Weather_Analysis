{
 "cells": [
  {
   "cell_type": "code",
   "execution_count": 8,
   "id": "c393153a",
   "metadata": {},
   "outputs": [],
   "source": [
    "#import dependencies\n",
    "import pandas as pd\n",
    "import numpy as np\n",
    "import matplotlib.pyplot as plt\n",
    "from citipy import citipy\n"
   ]
  },
  {
   "cell_type": "code",
   "execution_count": 12,
   "id": "7819082e",
   "metadata": {},
   "outputs": [],
   "source": [
    "lats = np.random.uniform(-90,90,size = 1500)\n",
    "lngs = np.random.uniform(-180,180, size = 1500)\n",
    "lat_lngs = zip(lats,lngs)\n",
    "\n",
    "#add the coordinates to a list\n",
    "coordinates = list(lat_lngs)\n",
    "#coordinates"
   ]
  },
  {
   "cell_type": "code",
   "execution_count": 13,
   "id": "b1c058a1",
   "metadata": {},
   "outputs": [
    {
     "data": {
      "text/plain": [
       "614"
      ]
     },
     "execution_count": 13,
     "metadata": {},
     "output_type": "execute_result"
    }
   ],
   "source": [
    "# Create a list for holding the cities.\n",
    "cities = []\n",
    "# Identify the nearest city for each latitude and longitude combination.\n",
    "for coordinate in coordinates:\n",
    "    city = citipy.nearest_city(coordinate[0], coordinate[1]).city_name\n",
    "\n",
    "    # If the city is unique, then we will add it to the cities list.\n",
    "    if city not in cities:\n",
    "        cities.append(city)\n",
    "# Print the city count to confirm sufficient count.\n",
    "len(cities)"
   ]
  },
  {
   "cell_type": "code",
   "execution_count": null,
   "id": "e4d97d3b",
   "metadata": {},
   "outputs": [],
   "source": []
  }
 ],
 "metadata": {
  "kernelspec": {
   "display_name": "PythonData",
   "language": "python",
   "name": "pythondata"
  },
  "language_info": {
   "codemirror_mode": {
    "name": "ipython",
    "version": 3
   },
   "file_extension": ".py",
   "mimetype": "text/x-python",
   "name": "python",
   "nbconvert_exporter": "python",
   "pygments_lexer": "ipython3",
   "version": "3.7.11"
  }
 },
 "nbformat": 4,
 "nbformat_minor": 5
}
